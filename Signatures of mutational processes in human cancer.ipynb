{
 "cells": [
  {
   "cell_type": "markdown",
   "metadata": {},
   "source": [
    "# Signatures of mutational processes in human cancer"
   ]
  },
  {
   "cell_type": "code",
   "execution_count": 1,
   "metadata": {},
   "outputs": [],
   "source": [
    "import numpy as np\n",
    "import pandas as pd\n",
    "import seaborn as sns\n",
    "import matplotlib.pyplot as plt\n",
    "import time\n",
    "from IPython.display import Markdown as md"
   ]
  },
  {
   "cell_type": "code",
   "execution_count": 2,
   "metadata": {},
   "outputs": [],
   "source": [
    "sns.set_style(style=\"whitegrid\")\n",
    "sns.set( font_scale = 1.2 )\n",
    "\n",
    "TITLE_SIZE = 18\n",
    "LABEL_SIZE = 16\n",
    "LEGEND_SIZE = 14"
   ]
  },
  {
   "cell_type": "markdown",
   "metadata": {},
   "source": [
    "### 1) Proposed tasks for the project"
   ]
  },
  {
   "cell_type": "markdown",
   "metadata": {},
   "source": [
    "*(Below the proposed tasks can be read. Completed tasks are marked with green color, uncompleted tasks are marked with red color.)*\n",
    "\n",
    "**Understanding the goals of the project**\n",
    "\n",
    "\n",
    "<span style=\"color:green\"> 0) To get an idea about the basic aims of the project, read [1] and [2]. Many more publications are available on the topic [3-6], but the main concepts are best described in the papers mentioned above. Make sure you understand what a mutational catalog means.</span>\n",
    "\n",
    "\n",
    "**Downloading the necessary data**\n",
    "\n",
    "\n",
    "<span style=\"color:green\"> 1) Lists of somatic mutations for different cancer types, for many samples are included with the task description.</span>\n",
    "\n",
    "<span style=\"color:green\"> 2) The human reference genome version hg19. Use this website and download the reference genome for each chromosome separately. (Download the files named \"chr[chromosome_name].fa.gz\".) These files are compressed FASTA files. Make sure you understand their structure.</span>\n",
    "\n",
    "\n",
    "**Determining sequence context for an arbitrary genomic position**\n",
    "\n",
    "\n",
    "<span style=\"color:green\"> 3) Define the genomic position by the name of the chromosome and the position of the base on that chromosome (chr:pos). (Genomic positions are not absolute, the numbering starts from 1 for each chromosome.)</span>\n",
    "\n",
    "<span style=\"color:green\"> 4) Search the above downloaded reference genome file of the appropriate chromosome and find the nucleobase at the given position. Also get the bases immediately before and after the given genomic position.</span>\n",
    "\n",
    "<span style=\"color:green\"> 5) To check your results for a few cases, you can use the UCSC Genome Browser. (For example, sequence context for chrY:6736166 is CAT.)</span>\n",
    "\n",
    "\n",
    "**Creating a mutational catalog for the 5 lists of somatic mutations separately**\n",
    "\n",
    "\n",
    "<span style=\"color:green\"> 6) Filter the tables so that only SNP variants are kept (insertions and deletions are ignored).</span>\n",
    "\n",
    "<span style=\"color:green\"> 7) Get sequence context for the remaining mutations with the method designed in the previous task. (Check if the base you find there is the same as the base listed in the Reference_Allele field.)</span>\n",
    "\n",
    "<span style=\"color:red\"> 8) For each sample in the set (indicated by the sample ID in field Tumor_Sample_UUID), collect the mutations and categorize them to 96 mutational categories based on the reference and the alternate (field Tumor_Seq_Allele2) allele and the sequence context.</span>\n",
    "    \n",
    "<span style=\"color:red\"> 9) Create a mutational catalog $C$ (a matrix), where $C_{ij}$ is the number of mutations found in sample $j$ in the mutational category $i$. (Samples are listed as columns, mutational categories as rows.)</span>\n",
    "\n",
    "<span style=\"color:red\"> 10) Do this separately for the 5 different cancer types.</span>\n",
    "\n",
    "\n",
    "**Performing non-negative matrix factorization to extract signatures**\n",
    "\n",
    "\n",
    "<span style=\"color:red\"> 11) Extract mutational signatures by using non-negative matrix factorization on the mutational catalogs separately. Choose the minimal set of signatures for each catalog that reconstructs the original matrix \"fairly well\". (Make sure to address this issue in a quantitative manner.)</span>\n",
    "    \n",
    "<span style=\"color:red\"> 12) Play around with different types of normalization and rescaling of the data. (For example, what happens if you normalize the mutational catalog so that the total number of mutations for a single sample sum to 1. What happens if the number of the mutations in a given mutational type sum to 1 across samples?) Do you get different results? Discuss!</span>\n",
    "\n",
    "<span style=\"color:red\"> 13) Perform signature extraction for all 5 mutational catalogs.</span>\n",
    "\n",
    "\n",
    "**Condensing signatures**\n",
    "\n",
    "\n",
    "<span style=\"color:red\"> 14) Once your signatures are extracted from all 5 mutational catalogs, try clustering them using different methods. Try to decrease the total number of signatures by combining \"reasonably similar\" ones. Make sure your criteria are clearly explained. Also, be very specific about how you actually \"combine\" similar signatures.</span>\n",
    "\n",
    "<span style=\"color:red\"> 15) Show the most dominant consensus signatures and their contributions for each cancer type.</span>\n"
   ]
  },
  {
   "cell_type": "markdown",
   "metadata": {},
   "source": [
    "### 2) Understanding the project"
   ]
  },
  {
   "cell_type": "markdown",
   "metadata": {},
   "source": [
    "As a first step it was necessary to understand the main points of the project. For this purpose a presentation was made and held on the last meeting. The presentation can be found in the folder (*dslab_intro.pdf*). Corresponding articles also can be found in the folder:\n",
    "\n",
    "[1] Alexandrov LB, et al. (2013) Signatures of mutational processes in human cancer. Nature 500(7463):415–21. (Filename: *ref1.pdf*)\n",
    "\n",
    "[2] Nik-Zainal S, et al. (2012) Mutational processes molding the genomes of 21 breast cancers. Cell 149(5):979–93. (Filename: *ref2.pdf*)"
   ]
  },
  {
   "cell_type": "markdown",
   "metadata": {},
   "source": [
    "### 3) Data exploration"
   ]
  },
  {
   "cell_type": "markdown",
   "metadata": {},
   "source": [
    "In this chapter we will explore the data files which contain somatic mutations for different cancer types (files are attached to the project). For this purpose a function\n",
    "\n",
    "<center>read_maf_into_dataframe( relativePath, fileName, variantType, columnsToKeep=None )</center>\n",
    "\n",
    "will be defined for reading the files in a proper way and load them into Pandas Dataframes. To increase efficiency (memory usage and time usage) we will keep only those columns which are necessary to perform further tasks.\n",
    "\n",
    "File names and cancer types:\n",
    "\n",
    "| File name | Type of cancer |\n",
    "|-----------:|:-------------:|\n",
    "| KIRC.maf | kidney renal clear cell carcinoma |\n",
    "| LUAD.maf | lung adenocarcinoma |\n",
    "| LUSC.maf | lung squamous cell carcinoma |\n",
    "| OV.maf | ovarian cancer |\n",
    "| PRAD.maf | prostate adenocarcinoma |\n",
    "\n",
    "Column names in files (necessary columns are marked with bold):\n",
    "\n",
    "- Hugo_Symbol\n",
    "- Entrez_Gene_Id\n",
    "- Center\n",
    "- Ncbi_Build\n",
    "- **Chrom**\n",
    "- **Start_Position**\n",
    "- **End_Position**\n",
    "- Strand\n",
    "- Variant_Classification\n",
    "- Variant_Type\n",
    "- **Reference_Allele**\n",
    "- Tumor_Seq_Allele1\n",
    "- **Tumor_Seq_Allele2**\n",
    "- Dbsnp_Rs\n",
    "- Dbsnp_Val_Status\n",
    "- Tumor_Sample_Barcode\n",
    "- Matched_Norm_Sample_Barcode\n",
    "- Match_Norm_Seq_Allele1\n",
    "- Match_Norm_Seq_Allele2\n",
    "- Tumor_Validation_Allele1\n",
    "- Tumor_Validation_Allele2\n",
    "- Match_Norm_Validation_Allele1\n",
    "- Match_Norm_Validation_Allele2\n",
    "- Verification_Status\n",
    "- Validation_Status\n",
    "- Mutation_Status\n",
    "- Sequencing_Phase\n",
    "- Sequence_Source\n",
    "- Validation_Method\n",
    "- Score\n",
    "- Bam_File\n",
    "- Sequencer\n",
    "- **Tumor_Sample_UUID**\n",
    "- Matched_Norm_Sample_UUID\n",
    "- File_Name\n",
    "- Archive_Name\n",
    "- Line_Number"
   ]
  },
  {
   "cell_type": "code",
   "execution_count": 3,
   "metadata": {},
   "outputs": [],
   "source": [
    "# Function to read maf files\n",
    "def read_maf_into_dataframe( relativePath, fileName, variantType, columnsToKeep=None ):\n",
    "    \n",
    "    dataFrame = pd.read_csv( relativePath+fileName, sep=\"\\t\" )\n",
    "    dataFrame.query( 'Variant_Type == \"' + variantType + '\"', inplace = True )\n",
    "    dataFrame.reset_index( drop=True, inplace=True )\n",
    "    \n",
    "    if columnsToKeep == None:\n",
    "        columnsToKeep = dataFrame.columns\n",
    "        \n",
    "    return dataFrame[columnsToKeep]"
   ]
  },
  {
   "cell_type": "code",
   "execution_count": 4,
   "metadata": {},
   "outputs": [],
   "source": [
    "# Reading all the .maf files into a dictionary\n",
    "cancerTypes = [\"KIRC\", \"LUAD\", \"LUSC\", \"OV\", \"PRAD\"]\n",
    "variantType = \"SNP\"\n",
    "columnsToKeep = [\"Chrom\", \"Start_Position\", \"End_Position\", \"Reference_Allele\", \"Tumor_Seq_Allele2\", \"Tumor_Sample_UUID\"]\n",
    "dataFrames = []\n",
    "\n",
    "for item in cancerTypes:\n",
    "    dataFrames.append(\n",
    "        read_maf_into_dataframe(\"./\",item + \".maf\", variantType, columnsToKeep)\n",
    "    )\n",
    "\n",
    "zip_iterator = zip(cancerTypes, dataFrames)\n",
    "mutations = dict(zip_iterator)"
   ]
  },
  {
   "cell_type": "code",
   "execution_count": 5,
   "metadata": {},
   "outputs": [
    {
     "data": {
      "text/html": [
       "<div>\n",
       "<style scoped>\n",
       "    .dataframe tbody tr th:only-of-type {\n",
       "        vertical-align: middle;\n",
       "    }\n",
       "\n",
       "    .dataframe tbody tr th {\n",
       "        vertical-align: top;\n",
       "    }\n",
       "\n",
       "    .dataframe thead th {\n",
       "        text-align: right;\n",
       "    }\n",
       "</style>\n",
       "<table border=\"1\" class=\"dataframe\">\n",
       "  <thead>\n",
       "    <tr style=\"text-align: right;\">\n",
       "      <th></th>\n",
       "      <th>Chrom</th>\n",
       "      <th>Start_Position</th>\n",
       "      <th>End_Position</th>\n",
       "      <th>Reference_Allele</th>\n",
       "      <th>Tumor_Seq_Allele2</th>\n",
       "      <th>Tumor_Sample_UUID</th>\n",
       "    </tr>\n",
       "  </thead>\n",
       "  <tbody>\n",
       "    <tr>\n",
       "      <th>0</th>\n",
       "      <td>10</td>\n",
       "      <td>52587996</td>\n",
       "      <td>52587996</td>\n",
       "      <td>C</td>\n",
       "      <td>G</td>\n",
       "      <td>d7107990-0f77-4440-b760-a19d4a920c04</td>\n",
       "    </tr>\n",
       "    <tr>\n",
       "      <th>1</th>\n",
       "      <td>12</td>\n",
       "      <td>8990969</td>\n",
       "      <td>8990969</td>\n",
       "      <td>T</td>\n",
       "      <td>A</td>\n",
       "      <td>90f1ea49-ae0d-4f4d-9df0-cb993ec99642</td>\n",
       "    </tr>\n",
       "    <tr>\n",
       "      <th>2</th>\n",
       "      <td>12</td>\n",
       "      <td>8990997</td>\n",
       "      <td>8990997</td>\n",
       "      <td>G</td>\n",
       "      <td>A</td>\n",
       "      <td>b4b3281b-5dfc-434d-a9a6-2c2d94123220</td>\n",
       "    </tr>\n",
       "    <tr>\n",
       "      <th>3</th>\n",
       "      <td>12</td>\n",
       "      <td>9016477</td>\n",
       "      <td>9016477</td>\n",
       "      <td>C</td>\n",
       "      <td>G</td>\n",
       "      <td>ca5ac140-34e2-4684-ad12-65ae699172fc</td>\n",
       "    </tr>\n",
       "    <tr>\n",
       "      <th>4</th>\n",
       "      <td>12</td>\n",
       "      <td>9020925</td>\n",
       "      <td>9020925</td>\n",
       "      <td>C</td>\n",
       "      <td>T</td>\n",
       "      <td>ae2cb5e3-cd36-4d7c-97dc-2f72a08dddb1</td>\n",
       "    </tr>\n",
       "  </tbody>\n",
       "</table>\n",
       "</div>"
      ],
      "text/plain": [
       "  Chrom  Start_Position  End_Position Reference_Allele Tumor_Seq_Allele2  \\\n",
       "0    10        52587996      52587996                C                 G   \n",
       "1    12         8990969       8990969                T                 A   \n",
       "2    12         8990997       8990997                G                 A   \n",
       "3    12         9016477       9016477                C                 G   \n",
       "4    12         9020925       9020925                C                 T   \n",
       "\n",
       "                      Tumor_Sample_UUID  \n",
       "0  d7107990-0f77-4440-b760-a19d4a920c04  \n",
       "1  90f1ea49-ae0d-4f4d-9df0-cb993ec99642  \n",
       "2  b4b3281b-5dfc-434d-a9a6-2c2d94123220  \n",
       "3  ca5ac140-34e2-4684-ad12-65ae699172fc  \n",
       "4  ae2cb5e3-cd36-4d7c-97dc-2f72a08dddb1  "
      ]
     },
     "metadata": {},
     "output_type": "display_data"
    }
   ],
   "source": [
    "# An example for a dataframe loaded from file\n",
    "display(mutations.get(\"OV\").head())"
   ]
  },
  {
   "cell_type": "markdown",
   "metadata": {},
   "source": [
    "So far we loaded the mutations from files, kept the necessary columns and checked that there is no any missing data. Before we go into deeper, it could be a good idea to explore the content of these files. "
   ]
  },
  {
   "cell_type": "code",
   "execution_count": 6,
   "metadata": {},
   "outputs": [
    {
     "name": "stdout",
     "output_type": "stream",
     "text": [
      "KIRC:\n"
     ]
    },
    {
     "data": {
      "text/plain": [
       "Chrom                0\n",
       "Start_Position       0\n",
       "End_Position         0\n",
       "Reference_Allele     0\n",
       "Tumor_Seq_Allele2    0\n",
       "Tumor_Sample_UUID    0\n",
       "dtype: int64"
      ]
     },
     "metadata": {},
     "output_type": "display_data"
    },
    {
     "name": "stdout",
     "output_type": "stream",
     "text": [
      "LUAD:\n"
     ]
    },
    {
     "data": {
      "text/plain": [
       "Chrom                0\n",
       "Start_Position       0\n",
       "End_Position         0\n",
       "Reference_Allele     0\n",
       "Tumor_Seq_Allele2    0\n",
       "Tumor_Sample_UUID    0\n",
       "dtype: int64"
      ]
     },
     "metadata": {},
     "output_type": "display_data"
    },
    {
     "name": "stdout",
     "output_type": "stream",
     "text": [
      "LUSC:\n"
     ]
    },
    {
     "data": {
      "text/plain": [
       "Chrom                0\n",
       "Start_Position       0\n",
       "End_Position         0\n",
       "Reference_Allele     0\n",
       "Tumor_Seq_Allele2    0\n",
       "Tumor_Sample_UUID    0\n",
       "dtype: int64"
      ]
     },
     "metadata": {},
     "output_type": "display_data"
    },
    {
     "name": "stdout",
     "output_type": "stream",
     "text": [
      "OV:\n"
     ]
    },
    {
     "data": {
      "text/plain": [
       "Chrom                0\n",
       "Start_Position       0\n",
       "End_Position         0\n",
       "Reference_Allele     0\n",
       "Tumor_Seq_Allele2    0\n",
       "Tumor_Sample_UUID    0\n",
       "dtype: int64"
      ]
     },
     "metadata": {},
     "output_type": "display_data"
    },
    {
     "name": "stdout",
     "output_type": "stream",
     "text": [
      "PRAD:\n"
     ]
    },
    {
     "data": {
      "text/plain": [
       "Chrom                0\n",
       "Start_Position       0\n",
       "End_Position         0\n",
       "Reference_Allele     0\n",
       "Tumor_Seq_Allele2    0\n",
       "Tumor_Sample_UUID    0\n",
       "dtype: int64"
      ]
     },
     "metadata": {},
     "output_type": "display_data"
    }
   ],
   "source": [
    "# Checking for missing values in .maf files\n",
    "for key in mutations:\n",
    "    print(key + \":\")\n",
    "    display(mutations.get(key).isna().sum())"
   ]
  },
  {
   "cell_type": "markdown",
   "metadata": {},
   "source": [
    "We can see there is no missing data in .maf files. As a next step we will check what kind of chromosomes are involved for the analysis in each cancer types."
   ]
  },
  {
   "cell_type": "code",
   "execution_count": 7,
   "metadata": {},
   "outputs": [
    {
     "data": {
      "image/png": "[encoded data removed]",
      "text/plain": [
       "<Figure size 864x1296 with 5 Axes>"
      ]
     },
     "metadata": {},
     "output_type": "display_data"
    }
   ],
   "source": [
    "# Visualizing chromosome occurences in barplots\n",
    "keys = list(mutations.keys())\n",
    "fig, axes = plt.subplots( nrows=5, ncols=1, figsize=(12, 18) )\n",
    "fig.tight_layout(pad=4.5)\n",
    "for i in range(0,5):\n",
    "    data2plot = mutations.get(keys[i]).groupby(\"Chrom\")[\"Start_Position\"].count()\n",
    "    sns.barplot(x=data2plot.index, y=data2plot.values, palette=\"Set1\", linewidth=2, edgecolor=\".4\",  ax=axes[i])\n",
    "    axes[i].set_xlabel(\"Chromosome\", fontsize=LABEL_SIZE)\n",
    "    axes[i].set_ylabel(\"Count\", fontsize=LABEL_SIZE)\n",
    "    axes[i].tick_params(labelrotation=90)\n",
    "    axes[i].set_title(keys[i], fontsize=TITLE_SIZE)"
   ]
  },
  {
   "cell_type": "code",
   "execution_count": 8,
   "metadata": {},
   "outputs": [
    {
     "name": "stdout",
     "output_type": "stream",
     "text": [
      "Chromosomes occure in .maf files:\n",
      "'6', 'GL000213.1', '16', '3', '11', '7', 'X', 'GL000209.1', 'GL000195.1', '5', '21', '1', '14', '8', '15', 'GL000219.1', '13', '2', 'GL000218.1', 'GL000237.1', '9', 'MT', '10', 'Y', '12', 'GL000192.1', '22', '4', '18', '19', 'GL000205.1', '20', '17'\n"
     ]
    }
   ],
   "source": [
    "# Check all the chromosomes occure\n",
    "chromosomeSet = set()\n",
    "for key in mutations:\n",
    "    chromosomeSet = chromosomeSet | set(mutations.get(key)[\"Chrom\"])\n",
    "    \n",
    "print(\"Chromosomes occure in .maf files:\")\n",
    "print(str(chromosomeSet)[1:-1])"
   ]
  },
  {
   "cell_type": "markdown",
   "metadata": {},
   "source": [
    "According to the results above, we will download only the necessary reference genome and they will be renamed with agreement to .maf files."
   ]
  },
  {
   "cell_type": "markdown",
   "metadata": {},
   "source": [
    "### 4) Determining sequence context for an arbitrary genomic position"
   ]
  },
  {
   "cell_type": "markdown",
   "metadata": {},
   "source": [
    "For the purpose of determining sequence context for an arbitrary genomic position, we will need for reference genome.  It was downloaded from http://hgdownload.cse.ucsc.edu/goldenPath/hg19/chromosomes/. As it is written on the page with the terminal command *\"wget --timestamping 'ftp://hgdownload.cse.ucsc.edu/goldenPath/hg19/chromosomes/chrM.fa.gz' -O chrM.fa.gz\"* we can get the desired reference genomes, and they can be unziped with the command *\"gunzip $<$file$>$.fa.gz\"*. The required reference genome files are downloaded and renamed according to the previous results. All the files can be found in the *reference_genome* folder.\n",
    "\n",
    "To read sequence and get the nucleobase at a given position and its context too a function is defined:\n",
    "<center>get_sequence_context( chromosomeName, position, numberOfNeighbours, filesPath=\"./reference_genome\" )</center>\n",
    "This function reads a reference genome file sequentially, and gives back the nucleobase at a given position and its neighbours. Genomic position is defined by the name of the chromosome and the position of the base on that chromosome."
   ]
  },
  {
   "cell_type": "code",
   "execution_count": 9,
   "metadata": {},
   "outputs": [],
   "source": [
    "def get_sequence_context( chromosomeName, position, numberOfNeighbours, filesPath=\"./reference_genome\" ):\n",
    "    \n",
    "    openedFile = open(filesPath + \"/chr\" + chromosomeName +\".fa\", \"r\")\n",
    "    \n",
    "    ch = \"\"\n",
    "    while ch != \"\\n\":\n",
    "        ch = openedFile.read(1)\n",
    "\n",
    "    i = 0\n",
    "    while i != position-numberOfNeighbours-1:\n",
    "        ch = openedFile.read(1)\n",
    "        if( ch != '\\n' ):\n",
    "            i = i+1\n",
    "    \n",
    "    sequenceContext = \"\"\n",
    "    i = 0\n",
    "    while i != 2*numberOfNeighbours + 1:\n",
    "        ch = openedFile.read(1)\n",
    "        if( ch != \"\\n\" ):\n",
    "            sequenceContext = sequenceContext + ch\n",
    "            i = i + 1\n",
    "            \n",
    "    openedFile.close()\n",
    "    \n",
    "    return sequenceContext.upper()"
   ]
  },
  {
   "cell_type": "code",
   "execution_count": 10,
   "metadata": {},
   "outputs": [
    {
     "name": "stdout",
     "output_type": "stream",
     "text": [
      "Example sequence:\n",
      "TGTGTGTGTCCACACTTCCTCTCATGAGAACAGCAGGTTGCTTTAGGGCCCACCCTGACAGCCTCGTTCTAATACTATGAGGCCAAATACACTCACGTTCT\n"
     ]
    }
   ],
   "source": [
    "# An example sequence context\n",
    "print(\"Example sequence:\")\n",
    "print(get_sequence_context(\"Y\",100000,50))"
   ]
  },
  {
   "cell_type": "markdown",
   "metadata": {},
   "source": [
    "Based on the webpage https://genome-euro.ucsc.edu/cgi-bin/hgTracks?db=hg19&lastVirtModeType=default&lastVirtModeExtraState=&virtModeType=default&virtMode=0&nonVirtPosition=&position=chr21%3A11111110%2D11111112&hgsid=275840646_e7bSzgLrALdhvWbzVOY8rpBBxySO, we can check if our own get_sequence_context function works properly or not. This happens below for some cases."
   ]
  },
  {
   "cell_type": "code",
   "execution_count": 11,
   "metadata": {},
   "outputs": [
    {
     "name": "stdout",
     "output_type": "stream",
     "text": [
      "Correct sequence context: CAT, result of the get_sequence_context function: CAT\n",
      "Correct sequence context: GGC, result of the get_sequence_context function: GGC\n",
      "Correct sequence context: TCG, result of the get_sequence_context function: TCG\n",
      "Correct sequence context: ACC, result of the get_sequence_context function: ACC\n",
      "Correct sequence context: GGT, result of the get_sequence_context function: GGT\n"
     ]
    }
   ],
   "source": [
    "# chrY:6736166 -> CAT\n",
    "print(\"Correct sequence context: CAT, result of the get_sequence_context function: \"\n",
    "      + get_sequence_context( \"Y\", 6736166, 1 ))\n",
    "\n",
    "# chr1:2463579 -> GGC\n",
    "print(\"Correct sequence context: GGC, result of the get_sequence_context function: \"\n",
    "      + get_sequence_context( \"1\", 2463579, 1 ))\n",
    "      \n",
    "# chrM:13579 -> TCG\n",
    "print(\"Correct sequence context: TCG, result of the get_sequence_context function: \"\n",
    "      + get_sequence_context( \"MT\", 13579, 1 ))\n",
    "\n",
    "# chr9:4638293 -> ACC\n",
    "print(\"Correct sequence context: ACC, result of the get_sequence_context function: \"\n",
    "      + get_sequence_context( \"9\", 4638293, 1 ))\n",
    "\n",
    "# chr21:111111 -> GGT\n",
    "print(\"Correct sequence context: GGT, result of the get_sequence_context function: \"\n",
    "      + get_sequence_context( \"21\", 11111111, 1 ))"
   ]
  },
  {
   "cell_type": "markdown",
   "metadata": {},
   "source": [
    "It may be an interesting question how much time we will need for all the evaluations. In the following I try to estimate it."
   ]
  },
  {
   "cell_type": "code",
   "execution_count": 12,
   "metadata": {},
   "outputs": [],
   "source": [
    "# Check required time\n",
    "positions = [1e1,1e2,1e3,1e4,1e5,1e6,1e7,1e8,1e8]\n",
    "requiredTimes = []\n",
    "for pos in positions:\n",
    "    start = time.time()\n",
    "    get_sequence_context( \"1\", pos, 1 )\n",
    "    end = time.time()\n",
    "    requiredTimes.append(end-start)"
   ]
  },
  {
   "cell_type": "code",
   "execution_count": 13,
   "metadata": {},
   "outputs": [
    {
     "name": "stdout",
     "output_type": "stream",
     "text": [
      "Required number of evaluations: 475034\n",
      "Average mutation position: 81061471\n"
     ]
    }
   ],
   "source": [
    "# Calculate number of evaluations and average mutation position\n",
    "totalLength = 0\n",
    "totalSum = 0\n",
    "for key in mutations:\n",
    "    totalLength = totalLength + len(mutations.get(key))\n",
    "    totalSum = totalSum + mutations.get(key)[\"Start_Position\"].sum()\n",
    "average = int(totalSum/totalLength)\n",
    "print(\"Required number of evaluations: \" + str(totalLength))\n",
    "print(\"Average mutation position: \" + str(average))"
   ]
  },
  {
   "cell_type": "code",
   "execution_count": 14,
   "metadata": {},
   "outputs": [
    {
     "data": {
      "image/png": "[encoded data removed]",
      "text/plain": [
       "<Figure size 576x432 with 1 Axes>"
      ]
     },
     "metadata": {},
     "output_type": "display_data"
    }
   ],
   "source": [
    "fig, ax = plt.subplots( figsize=(8, 6) )\n",
    "ax.plot(positions, requiredTimes, 'ro-', markersize=12, linewidth=3, alpha=1.0, label=\"Measured time\" )\n",
    "ax.vlines(average, 0.5*min(requiredTimes), 5*max(requiredTimes), linewidth=3, color=\"darkblue\")\n",
    "ax.set_xscale(\"log\")\n",
    "ax.set_yscale(\"log\")\n",
    "ax.set_xlabel(\"Mutation position\", fontsize=LABEL_SIZE)\n",
    "ax.set_ylabel(\"Time to determine context\", fontsize=LABEL_SIZE);"
   ]
  },
  {
   "cell_type": "markdown",
   "metadata": {},
   "source": [
    "As files are read sequentially, required time to find a given position increases linearly with position. This means that totally we would need approximately 166 days to get all necessary sequence context.\n",
    "\n",
    "\n",
    "It is a crucial question, is there any possibility to make calculations faster? One solution could be the parallelization of calculations. On the other hand I wanted to avoid loading total files into RAM, but it could help too. For example if tasks are sorted based on which file is required, and also tasks are sorted by the required positions, we would be able to determine all sequence context by reading all files only once."
   ]
  },
  {
   "cell_type": "markdown",
   "metadata": {},
   "source": [
    "The last task I wanted to carry out until the first report is checking if the base I find by the defined function is the same as the base listed in the Reference_Allele field. Some results can be seen below."
   ]
  },
  {
   "cell_type": "code",
   "execution_count": 15,
   "metadata": {},
   "outputs": [
    {
     "name": "stdout",
     "output_type": "stream",
     "text": [
      "(1)\n",
      "Expected: G\n",
      "Result of get_sequence_context: G\n",
      "(2)\n",
      "Expected: A\n",
      "Result of get_sequence_context: A\n",
      "(3)\n",
      "Expected: G\n",
      "Result of get_sequence_context: G\n"
     ]
    }
   ],
   "source": [
    "# Checks\n",
    "toCheck = mutations.get(\"OV\")[12:13]\n",
    "print(\"(1)\")\n",
    "print(\"Expected: \" + list(toCheck[\"Reference_Allele\"])[0])\n",
    "print(\"Result of get_sequence_context: \" + get_sequence_context( list(toCheck[\"Chrom\"])[0] , list(toCheck[\"Start_Position\"])[0], 0 ) )\n",
    "\n",
    "toCheck = mutations.get(\"KIRC\")[15:16]\n",
    "print(\"(2)\")\n",
    "print(\"Expected: \" + list(toCheck[\"Reference_Allele\"])[0])\n",
    "print(\"Result of get_sequence_context: \" + get_sequence_context( list(toCheck[\"Chrom\"])[0] , list(toCheck[\"Start_Position\"])[0], 0 ) )\n",
    "\n",
    "toCheck = mutations.get(\"LUAD\")[112:113]\n",
    "print(\"(3)\")\n",
    "print(\"Expected: \" + list(toCheck[\"Reference_Allele\"])[0])\n",
    "print(\"Result of get_sequence_context: \" + get_sequence_context( list(toCheck[\"Chrom\"])[0] , list(toCheck[\"Start_Position\"])[0], 0 ) )"
   ]
  },
  {
   "cell_type": "markdown",
   "metadata": {},
   "source": [
    "Based on the previous checks we could assume, our function works properly."
   ]
  },
  {
   "cell_type": "markdown",
   "metadata": {},
   "source": [
    "### 5) Next steps"
   ]
  },
  {
   "cell_type": "markdown",
   "metadata": {},
   "source": [
    "- As a next step I will try to increase speed of get_sequence_context function.\n",
    "- After this I will collect the mutations and categorize them to 96 mutational categories based on the reference and the alternate. For this purpose it is necessary to collect the 96 mutational categories.\n",
    "- I will create the mutational catalog separately for the 5 different cancer types.\n",
    "- And until the second report I will do the non-negative matrix factorization too."
   ]
  }
 ],
 "metadata": {
  "kernelspec": {
   "display_name": " conda_python36",
   "language": "python",
   "name": "conda_python36"
  },
  "language_info": {
   "codemirror_mode": {
    "name": "ipython",
    "version": 3
   },
   "file_extension": ".py",
   "mimetype": "text/x-python",
   "name": "python",
   "nbconvert_exporter": "python",
   "pygments_lexer": "ipython3",
   "version": "3.6.5"
  }
 },
 "nbformat": 4,
 "nbformat_minor": 2
}
